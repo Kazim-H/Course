{
 "cells": [
  {
   "cell_type": "code",
   "execution_count": 16,
   "id": "08629525",
   "metadata": {},
   "outputs": [
    {
     "name": "stdout",
     "output_type": "stream",
     "text": [
      "Only Arr[0] = 0 exists here.\n",
      "Only Arr[1] = 1 exists here.\n"
     ]
    }
   ],
   "source": [
    "numbers = [\"0\", \"1\", \"45\", \"11\", \"7\"]\n",
    "_0 = numbers[0]\n",
    "_1 = numbers[1]\n",
    "_2 = numbers[2]\n",
    "_3 = numbers[3]\n",
    "_4 = numbers[4]\n",
    "a= _0 == \"0\"\n",
    "b= _1 == \"1\"\n",
    "c= _2 == \"2\"\n",
    "d= _3 == \"3\"\n",
    "e= _4 == \"4\"\n",
    "if a==True:\n",
    "    print(\"Only Arr[0] = 0 exists here.\")\n",
    "if b==True:\n",
    "    print(\"Only Arr[1] = 1 exists here.\")\n",
    "if c==True:\n",
    "    print(\"Only Arr[2] = 2 exists here.\")\n",
    "if d==True:\n",
    "    print(\"Only Arr[3] = 3 exists here.\")\n",
    "if e==True:\n",
    "    print(\"Only Arr[4] = 4 exists here.\")"
   ]
  },
  {
   "cell_type": "code",
   "execution_count": null,
   "id": "1d3fcaeb",
   "metadata": {},
   "outputs": [],
   "source": []
  }
 ],
 "metadata": {
  "kernelspec": {
   "display_name": "Python 3 (ipykernel)",
   "language": "python",
   "name": "python3"
  },
  "language_info": {
   "codemirror_mode": {
    "name": "ipython",
    "version": 3
   },
   "file_extension": ".py",
   "mimetype": "text/x-python",
   "name": "python",
   "nbconvert_exporter": "python",
   "pygments_lexer": "ipython3",
   "version": "3.9.13"
  }
 },
 "nbformat": 4,
 "nbformat_minor": 5
}

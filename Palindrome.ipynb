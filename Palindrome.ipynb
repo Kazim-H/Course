{
 "cells": [
  {
   "cell_type": "code",
   "execution_count": 5,
   "id": "7aac0205",
   "metadata": {},
   "outputs": [
    {
     "name": "stdout",
     "output_type": "stream",
     "text": [
      "Enter any word: civoc\n",
      "The word is not a palindrome\n"
     ]
    }
   ],
   "source": [
    "word = input(\"Enter any word: \")\n",
    "x=word[::-1]\n",
    "if word==x:\n",
    "    print(\"The word is a palindrome\")\n",
    "else:\n",
    "    print(\"The word is not a palindrome\")\n"
   ]
  },
  {
   "cell_type": "code",
   "execution_count": null,
   "id": "661135da",
   "metadata": {},
   "outputs": [],
   "source": []
  },
  {
   "cell_type": "code",
   "execution_count": null,
   "id": "25a628d3",
   "metadata": {},
   "outputs": [],
   "source": []
  }
 ],
 "metadata": {
  "kernelspec": {
   "display_name": "Python 3 (ipykernel)",
   "language": "python",
   "name": "python3"
  },
  "language_info": {
   "codemirror_mode": {
    "name": "ipython",
    "version": 3
   },
   "file_extension": ".py",
   "mimetype": "text/x-python",
   "name": "python",
   "nbconvert_exporter": "python",
   "pygments_lexer": "ipython3",
   "version": "3.9.13"
  }
 },
 "nbformat": 4,
 "nbformat_minor": 5
}

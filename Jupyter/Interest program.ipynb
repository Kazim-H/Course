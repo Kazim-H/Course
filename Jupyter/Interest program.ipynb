{
 "cells": [
  {
   "cell_type": "code",
   "execution_count": null,
   "id": "21d517c1",
   "metadata": {},
   "outputs": [],
   "source": [
    "#Write a program that calculates both simple interest and compound interest.\n",
    "p_amt = int(input(\"Enter Principal Amount: \"))\n",
    "i_rt = int(input(\"Enter Interest Rate (in percentage): \"))\n",
    "tp = int(input(\"Enter Time Period: \"))\n",
    "sp = p_amt*i_rt*tp\n",
    "print(sp)"
   ]
  },
  {
   "cell_type": "code",
   "execution_count": 13,
   "id": "8bd2dcf1",
   "metadata": {},
   "outputs": [
    {
     "name": "stdout",
     "output_type": "stream",
     "text": [
      "Enter Principal Amount: 45000\n",
      "Enter Interest Rate (in percentage): 2\n",
      "Enter Time Period: 5\n",
      "Your interest amount is 4500  for  5  years\n",
      "Your simple interest is 49500\n",
      "Your compound interest is:  2.0178150468749997e+20\n"
     ]
    }
   ],
   "source": [
    "#Write a program that calculates both simple interest and compound interest.\n",
    "p_amt = int(input(\"Enter Principal Amount: \"))\n",
    "i_rtp = int(input(\"Enter Interest Rate (in percentage): \"))\n",
    "tp = int(input(\"Enter Time Period: \"))\n",
    "i_rt = (i_rtp/100)*p_amt\n",
    "intrst = int(i_rt*tp)\n",
    "sp = p_amt+intrst\n",
    "print(\"Your interest amount is\",intrst, \" for \",tp, \" years\" )\n",
    "print(\"Your simple interest is\",sp)\n",
    "temp = (1+i_rtp)\n",
    "ci_rt =(temp/100)*p_amt\n",
    "x=((ci_rt)**tp)\n",
    "c_i = p_amt*(x)-p_amt\n",
    "print(\"Your compound interest is: \",c_i)\n"
   ]
  },
  {
   "cell_type": "code",
   "execution_count": null,
   "id": "8c691e13",
   "metadata": {},
   "outputs": [],
   "source": []
  },
  {
   "cell_type": "code",
   "execution_count": null,
   "id": "e408846d",
   "metadata": {},
   "outputs": [],
   "source": []
  }
 ],
 "metadata": {
  "kernelspec": {
   "display_name": "Python 3 (ipykernel)",
   "language": "python",
   "name": "python3"
  },
  "language_info": {
   "codemirror_mode": {
    "name": "ipython",
    "version": 3
   },
   "file_extension": ".py",
   "mimetype": "text/x-python",
   "name": "python",
   "nbconvert_exporter": "python",
   "pygments_lexer": "ipython3",
   "version": "3.9.13"
  }
 },
 "nbformat": 4,
 "nbformat_minor": 5
}

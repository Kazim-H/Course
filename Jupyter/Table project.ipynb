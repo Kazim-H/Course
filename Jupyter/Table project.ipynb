{
 "cells": [
  {
   "cell_type": "code",
   "execution_count": 3,
   "id": "84ef0bc4",
   "metadata": {},
   "outputs": [
    {
     "name": "stdout",
     "output_type": "stream",
     "text": [
      "7 x 1 = 7\n",
      "7 x 2 = 14\n",
      "7 x 3 = 21\n",
      "7 x 4 = 28\n",
      "7 x 5 = 35\n",
      "7 x 6 = 42\n",
      "7 x 7 = 49\n",
      "7 x 8 = 56\n",
      "7 x 9 = 63\n",
      "7 x 10 = 70\n",
      "7 x 11 = 77\n",
      "7 x 12 = 84\n"
     ]
    }
   ],
   "source": [
    "# Program for table of a number\n",
    "number_for_table = 7\n",
    "_1 = number_for_table * 1 \n",
    "_2 = number_for_table * 2 \n",
    "_3 = number_for_table * 3\n",
    "_4 = number_for_table * 4\n",
    "_5 = number_for_table * 5\n",
    "_6 = number_for_table * 6\n",
    "_7 = number_for_table * 7\n",
    "_8 = number_for_table * 8\n",
    "_9 = number_for_table * 9\n",
    "_10 = number_for_table * 10\n",
    "_11 = number_for_table * 11\n",
    "_12 = number_for_table * 12\n",
    "print (str(number_for_table) + \" x 1 = \" + str(_1))\n",
    "print (str(number_for_table) + \" x 2 = \" + str(_2))\n",
    "print (str(number_for_table) + \" x 3 = \" + str(_3))\n",
    "print (str(number_for_table) + \" x 4 = \" + str(_4))\n",
    "print (str(number_for_table) + \" x 5 = \" + str(_5))\n",
    "print (str(number_for_table) + \" x 6 = \" + str(_6))\n",
    "print (str(number_for_table) + \" x 7 = \" + str(_7))\n",
    "print (str(number_for_table) + \" x 8 = \" + str(_8))\n",
    "print (str(number_for_table) + \" x 9 = \" + str(_9))\n",
    "print (str(number_for_table) + \" x 10 = \" + str(_10))\n",
    "print (str(number_for_table) + \" x 11 = \" + str(_11))\n",
    "print (str(number_for_table) + \" x 12 = \" + str(_12))"
   ]
  },
  {
   "cell_type": "code",
   "execution_count": null,
   "id": "5aef8339",
   "metadata": {},
   "outputs": [],
   "source": []
  }
 ],
 "metadata": {
  "kernelspec": {
   "display_name": "Python 3 (ipykernel)",
   "language": "python",
   "name": "python3"
  },
  "language_info": {
   "codemirror_mode": {
    "name": "ipython",
    "version": 3
   },
   "file_extension": ".py",
   "mimetype": "text/x-python",
   "name": "python",
   "nbconvert_exporter": "python",
   "pygments_lexer": "ipython3",
   "version": "3.9.13"
  }
 },
 "nbformat": 4,
 "nbformat_minor": 5
}

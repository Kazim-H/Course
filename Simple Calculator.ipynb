{
 "cells": [
  {
   "cell_type": "code",
   "execution_count": 4,
   "id": "d78fbf53",
   "metadata": {},
   "outputs": [
    {
     "name": "stdout",
     "output_type": "stream",
     "text": [
      "Enter the First Number7\n",
      "Enter the operator (+,-,*,/)*\n",
      "Enter the Second Number5\n",
      "7 * 5 = 35\n"
     ]
    }
   ],
   "source": [
    "#Program for Calculator\n",
    "n1 = int(input(\"Enter the First Number\"))\n",
    "op = input(\"Enter the operator (+,-,*,/)\")\n",
    "n2 = int(input(\"Enter the Second Number\"))\n",
    "if op == \"+\" :\n",
    "    x = n1 + n2\n",
    "elif op == \"-\" :\n",
    "    x = n1 - n2\n",
    "elif  op == \"*\" :\n",
    "    x = n1 * n2\n",
    "elif op == \"/\" :\n",
    "    x = n1 / n2\n",
    "else :\n",
    "    print(\"Unknown symbol\")\n",
    "\n",
    "print(n1, op, n2,\"=\",x)"
   ]
  },
  {
   "cell_type": "code",
   "execution_count": null,
   "id": "3427b685",
   "metadata": {},
   "outputs": [],
   "source": []
  }
 ],
 "metadata": {
  "kernelspec": {
   "display_name": "Python 3 (ipykernel)",
   "language": "python",
   "name": "python3"
  },
  "language_info": {
   "codemirror_mode": {
    "name": "ipython",
    "version": 3
   },
   "file_extension": ".py",
   "mimetype": "text/x-python",
   "name": "python",
   "nbconvert_exporter": "python",
   "pygments_lexer": "ipython3",
   "version": "3.9.13"
  }
 },
 "nbformat": 4,
 "nbformat_minor": 5
}

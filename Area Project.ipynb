{
 "cells": [
  {
   "cell_type": "code",
   "execution_count": 23,
   "id": "b701659e",
   "metadata": {},
   "outputs": [
    {
     "name": "stdout",
     "output_type": "stream",
     "text": [
      "---------Area of Square---------\n",
      "Length=  10 cm\n",
      "Area= 100 cm\n",
      "--------Area of Rectangle--------\n",
      "Length=  7.5 cm\n",
      "Width=  9 cm\n",
      "Area=  67.5 cm\n",
      "-----Circumference of Circle-----\n",
      "Radius= 2.5 cm\n",
      "Circumference= 5.0 cm\n"
     ]
    }
   ],
   "source": [
    "_1 = (\"i have a square with length of one side is 10 cm and a rectangle with length = 7.5 cm and width = 9 cm also calculate the area and circumference of a circle with radius of 2.5 cm\")\n",
    "a = slice(42, 45) #Square Extraction\n",
    "b = slice(79, 82) #Rectangle length Extraction\n",
    "c = slice(98, 99) #Rectangle Width Extraction\n",
    "d = slice(172, 175) #Circle Radius Extraction\n",
    "ls = int(_1[a])\n",
    "lr = float(_1[b])\n",
    "lw = int(_1[c])\n",
    "cr = float(_1[d])\n",
    "print(\"---------Area of Square---------\")\n",
    "print((\"Length= \"),ls, \"cm\")\n",
    "print((\"Area=\"), ls*ls, \"cm\")\n",
    "print(\"--------Area of Rectangle--------\")\n",
    "print((\"Length= \"),lr, \"cm\")\n",
    "print((\"Width= \"),lw, \"cm\")\n",
    "print((\"Area= \"),lw*lr, \"cm\")\n",
    "print(\"-----Circumference of Circle-----\")\n",
    "print((\"Radius=\"),cr ,\"cm\")\n",
    "print((\"Circumference=\"), cr*2, \"cm\")"
   ]
  },
  {
   "cell_type": "code",
   "execution_count": 2,
   "id": "8b97075a",
   "metadata": {},
   "outputs": [
    {
     "name": "stdout",
     "output_type": "stream",
     "text": [
      "Pakistan\n"
     ]
    }
   ],
   "source": [
    "x=\"Pakistan\"\n",
    "x[0:8]\n",
    "print(x)\n"
   ]
  },
  {
   "cell_type": "code",
   "execution_count": 23,
   "id": "80794f04",
   "metadata": {},
   "outputs": [
    {
     "name": "stdout",
     "output_type": "stream",
     "text": [
      "---------Area of square ---------\n",
      "Length=  10 cm\n",
      "Area= 100 cm\n",
      "--------Area of  --------\n",
      "Length=  7.5 cm\n",
      "Width=  9 cm\n",
      "Area=  67.5 cm\n",
      "-----Circumference of Circle-----\n",
      "Radius= 2.5 cm\n",
      "Circumference= 5.0 cm\n"
     ]
    }
   ],
   "source": [
    "a = (\"i have a square with length of one side is 10 cm and a rectangle with length = 7.5 cm and width = 9 cm also calculate the area and circumference of a circle with radius of 2.5 cm\")\n",
    "shape1=a[9:15]\n",
    "a=a[42:45] #Square Extraction\n",
    "shape2=a[55:64]\n",
    "b=a[79:82] #Rectangle length Extraction\n",
    "c=a[98:99] #Rectangle Width Extraction\n",
    "d=a[172:175] #Circle Radius Extraction\n",
    "ls = int(a)\n",
    "# lr = float(b)\n",
    "# lw = int(c)\n",
    "# cr = float(d)\n",
    "print(\"---------Area of\",shape1, \"---------\")\n",
    "print((\"Length= \"),ls, \"cm\")\n",
    "print((\"Area=\"), ls*ls, \"cm\")\n",
    "print(\"--------Area of\",shape2,\"--------\")\n",
    "print((\"Length= \"),lr, \"cm\")\n",
    "print((\"Width= \"),lw, \"cm\")\n",
    "print((\"Area= \"),lw*lr, \"cm\")\n",
    "print(\"-----Circumference of Circle-----\")\n",
    "print((\"Radius=\"),cr ,\"cm\")\n",
    "print((\"Circumference=\"), cr*2, \"cm\")"
   ]
  },
  {
   "cell_type": "code",
   "execution_count": 35,
   "id": "5ba80b88",
   "metadata": {},
   "outputs": [
    {
     "ename": "SyntaxError",
     "evalue": "unexpected EOF while parsing (1436575885.py, line 22)",
     "output_type": "error",
     "traceback": [
      "\u001b[1;36m  File \u001b[1;32m\"C:\\Users\\Kazim\\AppData\\Local\\Temp\\ipykernel_33348\\1436575885.py\"\u001b[1;36m, line \u001b[1;32m22\u001b[0m\n\u001b[1;33m    # print(\"Circumference=\", cr*2, \"cm\")\u001b[0m\n\u001b[1;37m                                         ^\u001b[0m\n\u001b[1;31mSyntaxError\u001b[0m\u001b[1;31m:\u001b[0m unexpected EOF while parsing\n"
     ]
    }
   ],
   "source": [
    "a = (\"i have a square with length of one side is 10 cm and a rectangle with length = 7.5 cm and width = 9 cm also calculate the area and circumference of a circle with radius of 2.5 cm\")\n",
    "shape1=a[9:15]\n",
    "shape2=a[55:64]\n",
    "shape3=a[150:156]\n",
    "a=a[42:45] #Square Extraction\n",
    "b=a[79:82] #Rectangle length Extraction\n",
    "c=a[98:99] #Rectangle Width Extraction\n",
    "d=a[172:175] #Circle Radius Extraction\n",
    "ls = int(a)\n",
    "# lr = float(b)\n",
    "# lw = int(c)\n",
    "# cr = float(d)\n",
    "print(\"---------Area of\",shape1, \"---------\")\n",
    "print(\"Length= \",ls, \"cm\")\n",
    "print(\"Area=\", ls*ls, \"cm\")\n",
    "print(\"--------Area of\",shape2,\"--------\")\n",
    "print(\"Length= \",lr, \"cm\")\n",
    "print(\"Width= \",lw, \"cm\")\n",
    "print((\"Area= \",lw*lr, \"cm\")\n",
    "# print(\"-----Circumference of\",shape3 ,\"-----\")\n",
    "# print(\"Radius=\",cr ,\"cm\")\n",
    "# print(\"Circumference=\", cr*2, \"cm\")"
   ]
  },
  {
   "cell_type": "code",
   "execution_count": 36,
   "id": "826ccf22",
   "metadata": {},
   "outputs": [
    {
     "name": "stdout",
     "output_type": "stream",
     "text": [
      "rectangle\n",
      " 10\n"
     ]
    }
   ],
   "source": [
    "a = (\"i have a square with length of one side is 10 cm and a rectangle with length = 7.5 cm and width = 9 cm also calculate the area and circumference of a circle with radius of 2.5 cm\")\n",
    "shape1=a[9:15]\n",
    "shape2=a[55:64]\n",
    "a=a[42:45] #Square Extraction\n",
    "print(shape2)\n",
    "print(a)\n"
   ]
  },
  {
   "cell_type": "code",
   "execution_count": null,
   "id": "233ece7f",
   "metadata": {},
   "outputs": [],
   "source": []
  },
  {
   "cell_type": "code",
   "execution_count": 58,
   "id": "8ac5dd0f",
   "metadata": {},
   "outputs": [
    {
     "ename": "ValueError",
     "evalue": "could not convert string to float: ''",
     "output_type": "error",
     "traceback": [
      "\u001b[1;31m---------------------------------------------------------------------------\u001b[0m",
      "\u001b[1;31mValueError\u001b[0m                                Traceback (most recent call last)",
      "\u001b[1;32m~\\AppData\\Local\\Temp\\ipykernel_33348\\1211642547.py\u001b[0m in \u001b[0;36m<module>\u001b[1;34m\u001b[0m\n\u001b[0;32m      8\u001b[0m \u001b[0md\u001b[0m \u001b[1;33m=\u001b[0m\u001b[0ma\u001b[0m\u001b[1;33m[\u001b[0m\u001b[1;36m172\u001b[0m\u001b[1;33m:\u001b[0m\u001b[1;36m175\u001b[0m\u001b[1;33m]\u001b[0m \u001b[1;31m#Circle Radius Extraction\u001b[0m\u001b[1;33m\u001b[0m\u001b[1;33m\u001b[0m\u001b[0m\n\u001b[0;32m      9\u001b[0m \u001b[0mls\u001b[0m \u001b[1;33m=\u001b[0m \u001b[0mint\u001b[0m\u001b[1;33m(\u001b[0m\u001b[0ma\u001b[0m\u001b[1;33m)\u001b[0m\u001b[1;33m\u001b[0m\u001b[1;33m\u001b[0m\u001b[0m\n\u001b[1;32m---> 10\u001b[1;33m \u001b[0mlr\u001b[0m \u001b[1;33m=\u001b[0m \u001b[0mfloat\u001b[0m\u001b[1;33m(\u001b[0m\u001b[0mb\u001b[0m\u001b[1;33m)\u001b[0m\u001b[1;33m\u001b[0m\u001b[1;33m\u001b[0m\u001b[0m\n\u001b[0m\u001b[0;32m     11\u001b[0m \u001b[0mlw\u001b[0m \u001b[1;33m=\u001b[0m \u001b[0mint\u001b[0m\u001b[1;33m(\u001b[0m\u001b[0mc\u001b[0m\u001b[1;33m)\u001b[0m\u001b[1;33m\u001b[0m\u001b[1;33m\u001b[0m\u001b[0m\n\u001b[0;32m     12\u001b[0m \u001b[0mcr\u001b[0m \u001b[1;33m=\u001b[0m \u001b[0mfloat\u001b[0m\u001b[1;33m(\u001b[0m\u001b[0md\u001b[0m\u001b[1;33m)\u001b[0m\u001b[1;33m\u001b[0m\u001b[1;33m\u001b[0m\u001b[0m\n",
      "\u001b[1;31mValueError\u001b[0m: could not convert string to float: ''"
     ]
    }
   ],
   "source": [
    "a = (\"i have a square with length of one side is 10 cm and a rectangle with length = 7.5 cm and width = 9 cm also calculate the area and circumference of a circle with radius of 2.5 cm\")\n",
    "shape1=a[9:15]\n",
    "shape2=a[55:64]\n",
    "shape3=a[150:156]\n",
    "a =a[42:45] #Square Extraction\n",
    "b =a[79:82] #Rectangle length Extraction\n",
    "c =a[98:99] #Rectangle Width Extraction\n",
    "d =a[172:175] #Circle Radius Extraction\n",
    "ls = int(a)\n",
    "lr = float(b)\n",
    "lw = int(c)\n",
    "cr = float(d)\n",
    "print(\"---------Area of\",shape1, \"---------\")\n",
    "print(\"Length= \",ls, \"cm\")\n",
    "print(\"Area=\", ls*ls, \"cm\")\n",
    "print(\"--------Area of\",shape2,\"--------\")\n",
    "print(\"Length= \",lr, \"cm\")\n",
    "print(\"Width= \",lw, \"cm\")\n",
    "print(\"Area= \",lw*lr, \"cm\")\n",
    "print(\"-----Circumference of\",shape3,\"-----\")\n",
    "print(\"Radius=\",cr ,\"cm\")\n",
    "print(\"Circumference=\", cr*2, \"cm\")"
   ]
  },
  {
   "cell_type": "code",
   "execution_count": null,
   "id": "3fef1812",
   "metadata": {},
   "outputs": [],
   "source": []
  }
 ],
 "metadata": {
  "kernelspec": {
   "display_name": "Python 3 (ipykernel)",
   "language": "python",
   "name": "python3"
  },
  "language_info": {
   "codemirror_mode": {
    "name": "ipython",
    "version": 3
   },
   "file_extension": ".py",
   "mimetype": "text/x-python",
   "name": "python",
   "nbconvert_exporter": "python",
   "pygments_lexer": "ipython3",
   "version": "3.9.13"
  }
 },
 "nbformat": 4,
 "nbformat_minor": 5
}

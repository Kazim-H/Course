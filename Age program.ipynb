{
 "cells": [
  {
   "cell_type": "code",
   "execution_count": 2,
   "id": "0907f181",
   "metadata": {},
   "outputs": [
    {
     "name": "stdout",
     "output_type": "stream",
     "text": [
      "What is your name? Kazim\n",
      "How old are you? 17\n",
      "How many years of experience do you have in programming? 0\n",
      " Hello Mr. Kazim Welcome to our programming class you have a False age to join our class, you have got 0 years of programming  experience and still you have 43 years before your retirement.\n"
     ]
    }
   ],
   "source": [
    "# Write a program that asks the user to input their name, age, and years of programming experience. \n",
    "# Check if the age is 18+ and calculate the remaining years until retirement.\n",
    "\n",
    "name = input(\"What is your name? \")\n",
    "age = int(input(\"How old are you? \"))\n",
    "exp = int(input(\"How many years of experience do you have in programming? \"))\n",
    "\n",
    "check = age >=18\n",
    "tr = 60-age\n",
    "\n",
    "print(\" Hello Mr.\", name, \"Welcome to our programming class you have a\", check, \"age to join our class, you have got\", exp,\"years of programming  experience and still you have\", tr, \"years before your retirement.\")"
   ]
  },
  {
   "cell_type": "code",
   "execution_count": null,
   "id": "7663f51d",
   "metadata": {},
   "outputs": [],
   "source": []
  }
 ],
 "metadata": {
  "kernelspec": {
   "display_name": "Python 3 (ipykernel)",
   "language": "python",
   "name": "python3"
  },
  "language_info": {
   "codemirror_mode": {
    "name": "ipython",
    "version": 3
   },
   "file_extension": ".py",
   "mimetype": "text/x-python",
   "name": "python",
   "nbconvert_exporter": "python",
   "pygments_lexer": "ipython3",
   "version": "3.9.13"
  }
 },
 "nbformat": 4,
 "nbformat_minor": 5
}
